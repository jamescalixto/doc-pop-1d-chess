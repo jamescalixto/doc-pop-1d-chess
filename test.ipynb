{
 "cells": [
  {
   "cell_type": "markdown",
   "metadata": {},
   "source": [
    " # Build lookup tables for sliding rook-like and bishop-like attacks\n",
    " \n",
    " ## We can precalculate sliding attacks\n",
    "Some pieces can perform sliding moves. They can move (and capture) until they hit another piece, traversing every squares (for rooks) or every other square (for bishops) or both (for queens). This is a little intensive to calculate at runtime. We can save time by precalculating and caching these in a map.\n",
    "\n",
    "The input is a 20-bit integer, with the first 4 bits representing the location of the sliding piece and the remaining 16 bits representing occupancy. We can use any slow algorithm we wish to calculate the set of possible moves for the sliding piece, and finally we return a 16-bit integer representing that set. \n",
    "\n",
    "## It's not as much space as you'd think\n",
    "\n",
    "We need to do this for every permutation of location, occupancy, and move type. This seems like a lot but upon calculation, it is very feasible:\n",
    "\n",
    "Given `n` pieces on the board, the number of possible occupancies is at most ${16 \\choose n}$, as there are 16 spots on the board and we are choosing `n` of them to put pieces on. (The real number is smaller, because there are occupancies that may be unreachable in a real game, but it's almost impossible to figure that out ahead of time.) For each occupancy, there are `n` possible locations for the sliding piece, and two move types to precalculate (rook-like and bishop-like). Thus we have:\n",
    "\n",
    "$$2n * {16 \\choose n}$$\n",
    "\n",
    "permutations, given `n` pieces. We now need to sum over all possible values of `n`. The lower bound of `n` is 3 (two kings and a sliding piece) and the upper bound of `n` is 12 (the number of starting pieces). So we have:\n",
    "\n",
    "$$\\sum_{n=3}^{12} 2n * {16 \\choose n}$$\n",
    "\n",
    "total permutations to look at, which comes out to `1029632`. So for a mapping of a measly ~1M 20-bit keys to two 16-bit values each, we can look up sliding piece attacks almost instantly with only bitwise operations. That's only ~6.7 MB of data — not bad! \n",
    "\n",
    "## A clarifying example\n",
    "\n",
    "Here is an example to clarify. Let us consider the black queen on square 6 in the following position:\n",
    "\n",
    "`♔..♘.♕....♜♞...♚`\n",
    "\n",
    "The location, square 6, can be represented in binary as:\n",
    "\n",
    "`0110`\n",
    "\n",
    "and the occupancy of the board can be represented in binary as:\n",
    "\n",
    "`1001010000110001`\n",
    "\n",
    "so, putting these together, the input is the 20-bit integer:\n",
    "\n",
    "`01101001010000110001`\n",
    "\n",
    "which, incidentally, corresponds to `431153` in decimal.\n",
    "\n",
    "Let us consider the rook-like attack first. `x` represents attackable spaces:\n",
    "\n",
    "`♔..xx♕xxxxx♞...♚`\n",
    "\n",
    "which corresponds to the moveset:\n",
    "\n",
    "`0001101111100000`\n",
    "\n",
    "equivalent to the decimal number `7136`. Similarly for the bishop-like attack we have:\n",
    "\n",
    "`♔..x.♕.x.x♜x...♚`\n",
    "\n",
    "which corresponds to the moveset:\n",
    "\n",
    "`0001000101010000`\n",
    "\n",
    "equivalent to the decimal number `4432`. We can OR them to get the total moveset for the queen:\n",
    "\n",
    "`0001101111110000`\n",
    "\n",
    "equivalent to the decimal number `7152`.\n",
    "\n",
    "So if we store the mapping `431153 -> (7136, 4432)` (we can generate the queen mapping by ORing the rook and bishop mappings) then we can efficiently lookup movesets for any sliding piece in any position.\n",
    "\n",
    "## But it says it attacks its own color piece! That is wrong?\n",
    "\n",
    "**Note** that the occupancy does not take into account color — this algorithm (correctly) indicates that the black queen can capture the white rook and white knight and also (incorrectly) indicates that it can take the black knight as well. This is intentional — it is easily fixed in a subsequent step by ANDing the moveset with the complement of the black occupancy.\n",
    "\n",
    "Black occupancy is:\n",
    "\n",
    "`1001010000000000`\n",
    "\n",
    "and its complement (indicating all non-black squares, comprising white squares and empty squares) is:\n",
    "\n",
    "`0110101111111111`\n",
    "\n",
    "and the AND of that in the total moveset `0001101111110000 & 0110101111111111` gets us:\n",
    "\n",
    "`0000101111110000`\n",
    "\n",
    "which is what we expect from the original position, repeated here:\n",
    "\n",
    "`♔..♘.♕....♜♞...♚`"
   ]
  },
  {
   "cell_type": "code",
   "execution_count": 21,
   "metadata": {},
   "outputs": [],
   "source": [
    "from more_itertools import distinct_permutations\n",
    "\n",
    "# Get occupancies.\n",
    "occupancies = []\n",
    "for n_occupied in range(3, 12+1):\n",
    "    l = \"1\" * n_occupied + \"0\" * (16 - n_occupied)\n",
    "    occupancies.extend(list(distinct_permutations(l)))\n",
    "occupancies = [\"\".join(o) for o in occupancies]"
   ]
  },
  {
   "cell_type": "code",
   "execution_count": 81,
   "metadata": {},
   "outputs": [
    {
     "name": "stdout",
     "output_type": "stream",
     "text": [
      "514816\n",
      "['32771 32766 10922', '32773 32764 10922', '32774 32764 10922', '32775 32764 10922', '32777 32760 10920', '32778 32760 10920', '32779 32760 10920', '32780 32760 10920', '32781 32760 10920', '32782 32760 10920', '32783 32760 10920', '32785 32752 10922', '32786 32752 10922', '32787 32752 10922', '32788 32752 10922', '32789 32752 10922', '32790 32752 10922', '32791 32752 10922', '32792 32752 10920', '32793 32752 10920', '32794 32752 10920', '32795 32752 10920', '32796 32752 10920', '32797 32752 10920', '32798 32752 10920']\n"
     ]
    }
   ],
   "source": [
    "# Traverse occupancy by interval and return valid moveset.\n",
    "def get_moveset_from_occupancy(occupancy, pointer, interval):\n",
    "    moveset = [\"0\"] * 16\n",
    "    while True:\n",
    "        pointer += interval\n",
    "        if (0 <= pointer < 16):\n",
    "            if occupancy[pointer] == \"0\":\n",
    "                moveset[pointer] = \"1\"\n",
    "            else:\n",
    "                moveset[pointer] = \"1\"\n",
    "                break\n",
    "        else:\n",
    "            break\n",
    "    return int(\"\".join(moveset), 2)  # turn binary string into int.\n",
    "            \n",
    "\n",
    "# Define function to make map.\n",
    "def get_map_from_occupancy(occupancy):\n",
    "    # Define mapping.\n",
    "    m = []\n",
    "    \n",
    "    # Get indices of pieces.\n",
    "    indices = set()\n",
    "    for i,c in enumerate(occupancy):\n",
    "        if c == \"1\":\n",
    "            indices.add(i)\n",
    "            \n",
    "    # For each index, test sliding moveset.\n",
    "    for i in indices:\n",
    "        # Get input string.\n",
    "        l = format(i, '04b')\n",
    "        k = l + occupancy\n",
    "        k = int(k, 2)  # turn binary string into int.\n",
    "        \n",
    "        # Get rook moveset.\n",
    "        rook_left = get_moveset_from_occupancy(occupancy, i, -1)\n",
    "        rook_right = get_moveset_from_occupancy(occupancy, i, 1)\n",
    "        rook_total = rook_left | rook_right\n",
    "#         print(\"R\", i, format(rook_total,'016b'))\n",
    "        \n",
    "        # Get bishop moveset.\n",
    "        bishop_left = get_moveset_from_occupancy(occupancy, i, -2)\n",
    "        bishop_right = get_moveset_from_occupancy(occupancy, i, 2)\n",
    "        bishop_total = bishop_left | bishop_right\n",
    "#         print(\"B\", i, format(bishop_total,'016b'))\n",
    "        \n",
    "        m.append(\" \".join([str(s) for s in [k, rook_total, bishop_total]]))\n",
    "    \n",
    "    return(m)\n",
    "    \n",
    "\n",
    "mappings = []\n",
    "for occupancy in occupancies:\n",
    "    mappings.extend(get_map_from_occupancy(occupancy))\n",
    "mappings = sorted(mappings, key=lambda x: int(x.split(\" \")[0]))\n",
    "    \n",
    "with open('mapping.txt', 'w+') as f:\n",
    "    f.writelines(\"\\n\".join(mappings))\n",
    "    \n",
    "print(len(mappings))\n",
    "print(mappings[:25])"
   ]
  },
  {
   "cell_type": "code",
   "execution_count": 82,
   "metadata": {},
   "outputs": [
    {
     "name": "stdout",
     "output_type": "stream",
     "text": [
      "1048545 65533 43688\n"
     ]
    }
   ],
   "source": [
    "max_k = max((int(m.split(\" \")[0]) for m in mappings))\n",
    "max_rook_total = max((int(m.split(\" \")[1]) for m in mappings))\n",
    "max_bishop_total = max((int(m.split(\" \")[2]) for m in mappings))\n",
    "\n",
    "print(max_k, max_rook_total, max_bishop_total)"
   ]
  },
  {
   "cell_type": "markdown",
   "metadata": {},
   "source": [
    "# Position expression\n",
    "\n",
    "We can express positions as \n",
    "`halfmove     board`\n",
    "`[0000 0000] [0000 0000 0000 0000 0000 0000 0000 0000 0000 0000 0000 0000 0000 0000 0000 0000]`"
   ]
  },
  {
   "cell_type": "code",
   "execution_count": 10,
   "metadata": {},
   "outputs": [],
   "source": [
    "# C    COLOR\n",
    "#  M   MULTIPLE MOVES\n",
    "#   R  ROOK MOVES\n",
    "#    B BISHOP MOVES\n",
    "# 0000 empty\n",
    "# 0001 pawn (white)\n",
    "# 0010 knight (white)\n",
    "# 0010 king (white)\n",
    "# 0100 UNUSED\n",
    "# 0101 bishop (white)\n",
    "# 0110 rook (white)\n",
    "# 0111 queen (white)\n",
    "# 1000 UNUSED\n",
    "# 1001 pawn (black)\n",
    "# 1010 knight (black)\n",
    "# 1011 king (black)\n",
    "# 1100 UNUSED\n",
    "# 1101 bishop (black)\n",
    "# 1110 rook (black)\n",
    "# 1111 queen (black)\n",
    "\n",
    "# 00 empty\n",
    "# 10 white\n",
    "# 11 black"
   ]
  },
  {
   "cell_type": "markdown",
   "metadata": {},
   "source": [
    "# Building a lookup table for all kinds of attacks\n",
    "We make this as:\n",
    "\n",
    "`[0000] [0000] [0000 0000 0000 0000]`\n",
    "\n",
    "`[nibble] [location] [occupancy]`"
   ]
  },
  {
   "cell_type": "code",
   "execution_count": 124,
   "metadata": {},
   "outputs": [],
   "source": [
    "# Define piece to nibble mapping.\n",
    "piece_to_byte_map = {\n",
    "    \"P\": 1,\n",
    "    \"N\": 2,\n",
    "    \"B\": 5,\n",
    "    \"R\": 6,\n",
    "    \"Q\": 7,\n",
    "    \"K\": 3,\n",
    "    \"p\": 9\n",
    "}\n",
    "\n",
    "byte_to_piece_map = {\n",
    "    1: \"P\",\n",
    "    2: \"N\",\n",
    "    5: \"B\",\n",
    "    6: \"R\",\n",
    "    7: \"Q\",\n",
    "    3: \"K\",\n",
    "    9: \"p\"\n",
    "}"
   ]
  },
  {
   "cell_type": "code",
   "execution_count": 109,
   "metadata": {},
   "outputs": [
    {
     "data": {
      "text/plain": [
       "64822"
      ]
     },
     "execution_count": 109,
     "metadata": {},
     "output_type": "execute_result"
    }
   ],
   "source": [
    "from more_itertools import distinct_permutations\n",
    "\n",
    "# Get list of every possible occupancy.\n",
    "occupancies = []\n",
    "for n_occupied in range(2, 12+1):\n",
    "    l = \"1\" * n_occupied + \"0\" * (16 - n_occupied)\n",
    "    occupancies.extend(list(distinct_permutations(l)))\n",
    "occupancies = [\"\".join(o) for o in occupancies]\n",
    "\n",
    "len(occupancies)"
   ]
  },
  {
   "cell_type": "code",
   "execution_count": 110,
   "metadata": {},
   "outputs": [],
   "source": [
    "# Traverse occupancy by intervals and return valid moveset.\n",
    "# Intervals are a (int, boolean) tuple representing the interval and whether\n",
    "# to repeat it.\n",
    "def get_moveset_from_occupancy_and_intervals(occupancy, pointer, intervals):\n",
    "    moveset = [\"0\"] * 16\n",
    "    for interval in intervals:\n",
    "        p = pointer\n",
    "        while True:\n",
    "            p += interval[0]\n",
    "            if (0 <= p < 16):\n",
    "                if occupancy[p] == \"0\":\n",
    "                    moveset[p] = \"1\"\n",
    "                else:\n",
    "                    moveset[p] = \"1\"\n",
    "                    break\n",
    "            else:\n",
    "                break\n",
    "            if not interval[1]:  # if we don't want to repeat it, then end.\n",
    "                break\n",
    "    return int(\"\".join(moveset), 2)  # turn binary string into int.\n",
    "\n",
    "\n",
    "# Define function to make map.\n",
    "def get_map(occupancies):\n",
    "    # Define mapping.\n",
    "    m = []\n",
    "\n",
    "    # Iterate over occupancies.\n",
    "    for occupancy in occupancies:\n",
    "        # Get indices of pieces.\n",
    "        indices = set()\n",
    "        for i,c in enumerate(occupancy):\n",
    "            if c == \"1\":\n",
    "                indices.add(i)\n",
    "\n",
    "        # For each occupancy, test every position.\n",
    "        for i in indices:\n",
    "            # Get index as nibble.\n",
    "            index_nibble = format(i, '04b')\n",
    "\n",
    "            # For every position, test every piece.\n",
    "            for p, pb in piece_to_byte_map.items():\n",
    "                # Get piece as nibble.\n",
    "                piece_nibble = format(pb, '04b')\n",
    "\n",
    "                # Combine into full binary string, then turn into int.\n",
    "                binary_string = piece_nibble + index_nibble + occupancy\n",
    "                binary = int(binary_string, 2)\n",
    "\n",
    "                # Get moveset based on piece type.\n",
    "                if p == \"P\":\n",
    "                    if i == 5:\n",
    "                        intervals = [(1, False), (2, False)]\n",
    "                    else:\n",
    "                        intervals = [(1, False)]\n",
    "                elif p == \"N\":\n",
    "                    intervals = [(-3, False), (-2, False), (2, False), (3, False)]\n",
    "                elif p == \"B\":\n",
    "                    intervals = [(-2, True), (2, True)]\n",
    "                elif p == \"R\":\n",
    "                    intervals = [(-1, True), (1, True)]\n",
    "                elif p == \"Q\":\n",
    "                    intervals = [(-2, True), (-1, True), (1, True), (2, True)]\n",
    "                elif p == \"K\":\n",
    "                    intervals = [(-1, False), (1, False)]\n",
    "                elif p == \"p\": # special case for black pawn, which goes the other way.\n",
    "                    if i == 10:\n",
    "                        intervals = [(-2, False), (-1, False)]\n",
    "                    else:\n",
    "                        intervals = [(-1, False)]\n",
    "\n",
    "                moveset = get_moveset_from_occupancy_and_intervals(occupancy, i, intervals)\n",
    "                m.append((binary, moveset))\n",
    "    \n",
    "    return(m)"
   ]
  },
  {
   "cell_type": "code",
   "execution_count": 132,
   "metadata": {},
   "outputs": [
    {
     "data": {
      "text/plain": [
       "[(14, 'P', '0000000000000011', '0000000000000001'),\n",
       " (14, 'N', '0000000000000011', '0000000000011000'),\n",
       " (14, 'B', '0000000000000011', '1010101010101000'),\n",
       " (14, 'R', '0000000000000011', '1111111111111101'),\n",
       " (14, 'Q', '0000000000000011', '1111111111111101'),\n",
       " (14, 'K', '0000000000000011', '0000000000000101'),\n",
       " (14, 'p', '0000000000000011', '0000000000000100'),\n",
       " (15, 'P', '0000000000000011', '0000000000000000'),\n",
       " (15, 'N', '0000000000000011', '0000000000001100'),\n",
       " (15, 'B', '0000000000000011', '0101010101010100')]"
      ]
     },
     "execution_count": 132,
     "metadata": {},
     "output_type": "execute_result"
    }
   ],
   "source": [
    "mappings = get_map(occupancies)\n",
    "\n",
    "[(int(format(k, '016b').zfill(24)[4:8], 2),\n",
    "  byte_to_piece_map[int(format(k, '016b').zfill(24)[:4], 2)],\n",
    "  format(k, '016b').zfill(24)[8:], \n",
    "  format(v, '016b')) \n",
    " for (k,v) in mappings[:10]]"
   ]
  },
  {
   "cell_type": "code",
   "execution_count": 133,
   "metadata": {},
   "outputs": [
    {
     "data": {
      "text/plain": [
       "(1966083, 1)"
      ]
     },
     "execution_count": 133,
     "metadata": {},
     "output_type": "execute_result"
    }
   ],
   "source": [
    "mappings[0]"
   ]
  },
  {
   "cell_type": "code",
   "execution_count": 135,
   "metadata": {},
   "outputs": [
    {
     "data": {
      "text/plain": [
       "'1081345 16384'"
      ]
     },
     "execution_count": 135,
     "metadata": {},
     "output_type": "execute_result"
    }
   ],
   "source": [
    "mappings = sorted(mappings, key=lambda x: x[0])\n",
    "mappings = [\" \".join((str(i) for i in m)) for m in mappings]\n",
    "mappings[0]"
   ]
  },
  {
   "cell_type": "code",
   "execution_count": 136,
   "metadata": {},
   "outputs": [],
   "source": [
    "with open('mapping.txt', 'w+') as f:\n",
    "    f.writelines(\"\\n\".join(mappings))"
   ]
  },
  {
   "cell_type": "markdown",
   "metadata": {},
   "source": [
    "# Old version"
   ]
  },
  {
   "cell_type": "code",
   "execution_count": null,
   "metadata": {},
   "outputs": [],
   "source": [
    "# Traverse occupancy by interval and return valid moveset.\n",
    "def get_moveset_from_occupancy(occupancy, pointer, interval):\n",
    "    moveset = [\"0\"] * 16\n",
    "    while True:\n",
    "        pointer += interval\n",
    "        if (0 <= pointer < 16):\n",
    "            if occupancy[pointer] == \"0\":\n",
    "                moveset[pointer] = \"1\"\n",
    "            else:\n",
    "                moveset[pointer] = \"1\"\n",
    "                break\n",
    "        else:\n",
    "            break\n",
    "    return int(\"\".join(moveset), 2)  # turn binary string into int.\n",
    "\n",
    "\n",
    "# Define function to make map.\n",
    "def get_map_from_occupancy(occupancy):\n",
    "    # Define mapping.\n",
    "    m = []\n",
    "    \n",
    "    # Get indices of pieces.\n",
    "    indices = set()\n",
    "    for i,c in enumerate(occupancy):\n",
    "        if c == \"1\":\n",
    "            indices.add(i)\n",
    "            \n",
    "    # For each index, test sliding moveset.\n",
    "    for i in indices:\n",
    "        # Get input string.\n",
    "        l = format(i, '04b')\n",
    "        k = l + occupancy\n",
    "        k = int(k, 2)  # turn binary string into int.\n",
    "        \n",
    "        # Get rook moveset.\n",
    "        rook_left = get_moveset_from_occupancy(occupancy, i, -1)\n",
    "        rook_right = get_moveset_from_occupancy(occupancy, i, 1)\n",
    "        rook_total = rook_left | rook_right\n",
    "#         print(\"R\", i, format(rook_total,'016b'))\n",
    "        \n",
    "        # Get bishop moveset.\n",
    "        bishop_left = get_moveset_from_occupancy(occupancy, i, -2)\n",
    "        bishop_right = get_moveset_from_occupancy(occupancy, i, 2)\n",
    "        bishop_total = bishop_left | bishop_right\n",
    "#         print(\"B\", i, format(bishop_total,'016b'))\n",
    "        \n",
    "        m.append(\" \".join([str(s) for s in [k, rook_total, bishop_total]]))\n",
    "    \n",
    "    return(m)\n",
    "    \n",
    "\n",
    "mappings = []\n",
    "for occupancy in occupancies:\n",
    "    mappings.extend(get_map_from_occupancy(occupancy))\n",
    "mappings = sorted(mappings, key=lambda x: int(x.split(\" \")[0]))\n",
    "    \n",
    "with open('mapping.txt', 'w+') as f:\n",
    "    f.writelines(\"\\n\".join(mappings))\n",
    "    \n",
    "print(len(mappings))\n",
    "print(mappings[:25])"
   ]
  }
 ],
 "metadata": {
  "kernelspec": {
   "display_name": "Python 3",
   "language": "python",
   "name": "python3"
  },
  "language_info": {
   "codemirror_mode": {
    "name": "ipython",
    "version": 3
   },
   "file_extension": ".py",
   "mimetype": "text/x-python",
   "name": "python",
   "nbconvert_exporter": "python",
   "pygments_lexer": "ipython3",
   "version": "3.8.12"
  }
 },
 "nbformat": 4,
 "nbformat_minor": 4
}
